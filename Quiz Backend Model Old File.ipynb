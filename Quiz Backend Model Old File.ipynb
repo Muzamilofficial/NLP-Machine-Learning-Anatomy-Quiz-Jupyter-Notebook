{
 "cells": [
  {
   "cell_type": "code",
   "execution_count": 2,
   "id": "7ecb084e-2e03-4d07-b131-05d9fed6671a",
   "metadata": {},
   "outputs": [
    {
     "data": {
      "text/html": [
       "<div>\n",
       "<style scoped>\n",
       "    .dataframe tbody tr th:only-of-type {\n",
       "        vertical-align: middle;\n",
       "    }\n",
       "\n",
       "    .dataframe tbody tr th {\n",
       "        vertical-align: top;\n",
       "    }\n",
       "\n",
       "    .dataframe thead th {\n",
       "        text-align: right;\n",
       "    }\n",
       "</style>\n",
       "<table border=\"1\" class=\"dataframe\">\n",
       "  <thead>\n",
       "    <tr style=\"text-align: right;\">\n",
       "      <th></th>\n",
       "      <th>Question</th>\n",
       "      <th>Option_A</th>\n",
       "      <th>Option_B</th>\n",
       "      <th>Option_C</th>\n",
       "      <th>Option_D</th>\n",
       "      <th>Correct_Answer</th>\n",
       "    </tr>\n",
       "  </thead>\n",
       "  <tbody>\n",
       "    <tr>\n",
       "      <th>0</th>\n",
       "      <td>What is the largest organ in the human body?</td>\n",
       "      <td>Skin</td>\n",
       "      <td>Liver</td>\n",
       "      <td>Heart</td>\n",
       "      <td>Brain</td>\n",
       "      <td>A</td>\n",
       "    </tr>\n",
       "    <tr>\n",
       "      <th>1</th>\n",
       "      <td>How many bones are there in the adult human body?</td>\n",
       "      <td>206</td>\n",
       "      <td>208</td>\n",
       "      <td>210</td>\n",
       "      <td>212</td>\n",
       "      <td>A</td>\n",
       "    </tr>\n",
       "    <tr>\n",
       "      <th>2</th>\n",
       "      <td>Which part of the brain controls memory?</td>\n",
       "      <td>Cerebrum</td>\n",
       "      <td>Cerebellum</td>\n",
       "      <td>Medulla</td>\n",
       "      <td>Hippocampus</td>\n",
       "      <td>D</td>\n",
       "    </tr>\n",
       "    <tr>\n",
       "      <th>3</th>\n",
       "      <td>What is the main function of red blood cells?</td>\n",
       "      <td>Fight infection</td>\n",
       "      <td>Transport oxygen</td>\n",
       "      <td>Store energy</td>\n",
       "      <td>Carry nutrients</td>\n",
       "      <td>A</td>\n",
       "    </tr>\n",
       "    <tr>\n",
       "      <th>4</th>\n",
       "      <td>What is the medical term for the voice box?</td>\n",
       "      <td>Pharynx</td>\n",
       "      <td>Larynx</td>\n",
       "      <td>Lungs</td>\n",
       "      <td>Esophagus</td>\n",
       "      <td>B</td>\n",
       "    </tr>\n",
       "  </tbody>\n",
       "</table>\n",
       "</div>"
      ],
      "text/plain": [
       "                                            Question         Option_A  \\\n",
       "0       What is the largest organ in the human body?             Skin   \n",
       "1  How many bones are there in the adult human body?              206   \n",
       "2           Which part of the brain controls memory?         Cerebrum   \n",
       "3      What is the main function of red blood cells?  Fight infection   \n",
       "4        What is the medical term for the voice box?          Pharynx   \n",
       "\n",
       "           Option_B      Option_C         Option_D Correct_Answer  \n",
       "0             Liver         Heart            Brain              A  \n",
       "1               208           210              212              A  \n",
       "2        Cerebellum       Medulla      Hippocampus              D  \n",
       "3  Transport oxygen  Store energy  Carry nutrients              A  \n",
       "4            Larynx         Lungs        Esophagus              B  "
      ]
     },
     "execution_count": 2,
     "metadata": {},
     "output_type": "execute_result"
    }
   ],
   "source": [
    "import pandas as pd\n",
    "\n",
    "# Dataset of human anatomy quiz questions and answers\n",
    "data = {\n",
    "    'Question': [\n",
    "        \"What is the largest organ in the human body?\",\n",
    "        \"How many bones are there in the adult human body?\",\n",
    "        \"Which part of the brain controls memory?\",\n",
    "        \"What is the main function of red blood cells?\",\n",
    "        \"What is the medical term for the voice box?\",\n",
    "        \"How many chambers are there in the human heart?\",\n",
    "        \"Which organ is responsible for filtering waste from the blood?\",\n",
    "        \"Which part of the body produces insulin?\",\n",
    "        \"Where are the majority of the human body's blood vessels located?\",\n",
    "        \"Which bone is the longest in the human body?\"\n",
    "    ],\n",
    "    'Option_A': [\n",
    "        \"Skin\", \"206\", \"Cerebrum\", \"Fight infection\", \"Pharynx\", \"4\", \"Liver\", \"Pancreas\", \"Legs\", \"Femur\"\n",
    "    ],\n",
    "    'Option_B': [\n",
    "        \"Liver\", \"208\", \"Cerebellum\", \"Transport oxygen\", \"Larynx\", \"2\", \"Kidney\", \"Thyroid\", \"Arms\", \"Tibia\"\n",
    "    ],\n",
    "    'Option_C': [\n",
    "        \"Heart\", \"210\", \"Medulla\", \"Store energy\", \"Lungs\", \"3\", \"Heart\", \"Stomach\", \"Head\", \"Radius\"\n",
    "    ],\n",
    "    'Option_D': [\n",
    "        \"Brain\", \"212\", \"Hippocampus\", \"Carry nutrients\", \"Esophagus\", \"5\", \"Bladder\", \"Kidney\", \"Torso\", \"Clavicle\"\n",
    "    ],\n",
    "    'Correct_Answer': ['A', 'A', 'D', 'A', 'B', 'A', 'A', 'B', 'A', 'A']\n",
    "}\n",
    "\n",
    "# Convert to DataFrame\n",
    "quiz_df = pd.DataFrame(data)\n",
    "quiz_df.head()"
   ]
  },
  {
   "cell_type": "code",
   "execution_count": 7,
   "id": "16542e8d-acb2-406a-bf81-03e8a4d423af",
   "metadata": {},
   "outputs": [
    {
     "name": "stdout",
     "output_type": "stream",
     "text": [
      "Question 1: What is the largest organ in the human body?\n",
      "A: Skin\n",
      "B: Liver\n",
      "C: Heart\n",
      "D: Brain\n"
     ]
    },
    {
     "name": "stdin",
     "output_type": "stream",
     "text": [
      "Your answer (A/B/C/D):  a\n"
     ]
    },
    {
     "name": "stdout",
     "output_type": "stream",
     "text": [
      "Correct!\n",
      "\n",
      "Question 2: How many bones are there in the adult human body?\n",
      "A: 206\n",
      "B: 208\n",
      "C: 210\n",
      "D: 212\n"
     ]
    },
    {
     "name": "stdin",
     "output_type": "stream",
     "text": [
      "Your answer (A/B/C/D):  a\n"
     ]
    },
    {
     "name": "stdout",
     "output_type": "stream",
     "text": [
      "Correct!\n",
      "\n",
      "Question 3: Which part of the brain controls memory?\n",
      "A: Cerebrum\n",
      "B: Cerebellum\n",
      "C: Medulla\n",
      "D: Hippocampus\n"
     ]
    },
    {
     "name": "stdin",
     "output_type": "stream",
     "text": [
      "Your answer (A/B/C/D):  a\n"
     ]
    },
    {
     "name": "stdout",
     "output_type": "stream",
     "text": [
      "Wrong! The correct answer is D: Hippocampus\n",
      "\n",
      "Question 4: What is the main function of red blood cells?\n",
      "A: Fight infection\n",
      "B: Transport oxygen\n",
      "C: Store energy\n",
      "D: Carry nutrients\n"
     ]
    },
    {
     "name": "stdin",
     "output_type": "stream",
     "text": [
      "Your answer (A/B/C/D):  a\n"
     ]
    },
    {
     "name": "stdout",
     "output_type": "stream",
     "text": [
      "Correct!\n",
      "\n",
      "Question 5: What is the medical term for the voice box?\n",
      "A: Pharynx\n",
      "B: Larynx\n",
      "C: Lungs\n",
      "D: Esophagus\n"
     ]
    },
    {
     "name": "stdin",
     "output_type": "stream",
     "text": [
      "Your answer (A/B/C/D):  a\n"
     ]
    },
    {
     "name": "stdout",
     "output_type": "stream",
     "text": [
      "Wrong! The correct answer is B: Larynx\n",
      "\n",
      "Question 6: How many chambers are there in the human heart?\n",
      "A: 4\n",
      "B: 2\n",
      "C: 3\n",
      "D: 5\n"
     ]
    },
    {
     "name": "stdin",
     "output_type": "stream",
     "text": [
      "Your answer (A/B/C/D):  a\n"
     ]
    },
    {
     "name": "stdout",
     "output_type": "stream",
     "text": [
      "Correct!\n",
      "\n",
      "Question 7: Which organ is responsible for filtering waste from the blood?\n",
      "A: Liver\n",
      "B: Kidney\n",
      "C: Heart\n",
      "D: Bladder\n"
     ]
    },
    {
     "name": "stdin",
     "output_type": "stream",
     "text": [
      "Your answer (A/B/C/D):  a\n"
     ]
    },
    {
     "name": "stdout",
     "output_type": "stream",
     "text": [
      "Correct!\n",
      "\n",
      "Question 8: Which part of the body produces insulin?\n",
      "A: Pancreas\n",
      "B: Thyroid\n",
      "C: Stomach\n",
      "D: Kidney\n"
     ]
    },
    {
     "name": "stdin",
     "output_type": "stream",
     "text": [
      "Your answer (A/B/C/D):  a\n"
     ]
    },
    {
     "name": "stdout",
     "output_type": "stream",
     "text": [
      "Wrong! The correct answer is B: Thyroid\n",
      "\n",
      "Question 9: Where are the majority of the human body's blood vessels located?\n",
      "A: Legs\n",
      "B: Arms\n",
      "C: Head\n",
      "D: Torso\n"
     ]
    },
    {
     "name": "stdin",
     "output_type": "stream",
     "text": [
      "Your answer (A/B/C/D):  c\n"
     ]
    },
    {
     "name": "stdout",
     "output_type": "stream",
     "text": [
      "Wrong! The correct answer is A: Legs\n",
      "\n",
      "Question 10: Which bone is the longest in the human body?\n",
      "A: Femur\n",
      "B: Tibia\n",
      "C: Radius\n",
      "D: Clavicle\n"
     ]
    },
    {
     "name": "stdin",
     "output_type": "stream",
     "text": [
      "Your answer (A/B/C/D):  c\n"
     ]
    },
    {
     "name": "stdout",
     "output_type": "stream",
     "text": [
      "Wrong! The correct answer is A: Femur\n",
      "\n",
      "Your score is 5 out of 10.\n"
     ]
    }
   ],
   "source": [
    "# Function to ask questions and check answers\n",
    "def take_quiz():\n",
    "    score = 0\n",
    "    user_answers = []\n",
    "    \n",
    "    for index, row in quiz_df.iterrows():\n",
    "        print(f\"Question {index + 1}: {row['Question']}\")\n",
    "        print(\"A:\", row['Option_A'])\n",
    "        print(\"B:\", row['Option_B'])\n",
    "        print(\"C:\", row['Option_C'])\n",
    "        print(\"D:\", row['Option_D'])\n",
    "        \n",
    "        # Take user input and validate it\n",
    "        while True:\n",
    "            answer = input(\"Your answer (A/B/C/D): \").strip().upper()\n",
    "            if answer in ['A', 'B', 'C', 'D']:\n",
    "                break\n",
    "            else:\n",
    "                print(\"Invalid input. Please enter A, B, C, or D.\")\n",
    "        \n",
    "        user_answers.append(answer)\n",
    "        \n",
    "        # Check if the answer is correct\n",
    "        if answer == row['Correct_Answer']:\n",
    "            score += 1\n",
    "            print(\"Correct!\\n\")\n",
    "        else:\n",
    "            correct_answer = row['Correct_Answer']\n",
    "            correct_answer_text = row[f\"Option_{correct_answer}\"]\n",
    "            print(f\"Wrong! The correct answer is {correct_answer}: {correct_answer_text}\\n\")\n",
    "\n",
    "    return score, user_answers\n",
    "\n",
    "# Start quiz\n",
    "score, user_answers = take_quiz()\n",
    "print(f\"Your score is {score} out of 10.\")"
   ]
  },
  {
   "cell_type": "code",
   "execution_count": 8,
   "id": "746bebdd-d966-4dea-b078-96f622df68ef",
   "metadata": {},
   "outputs": [
    {
     "name": "stdout",
     "output_type": "stream",
     "text": [
      "\n",
      "Your score is less than 6, here are some articles to help you:\n"
     ]
    }
   ],
   "source": [
    "# Recommendations for articles based on failed questions\n",
    "def recommend_articles(user_answers):\n",
    "    # Articles dictionary based on anatomy topics\n",
    "    articles = {\n",
    "        \"Skin\": \"Article on Human Skin Anatomy and Functions\",\n",
    "        \"Bones\": \"Article on Human Bone Structure and Functions\",\n",
    "        \"Brain\": \"Article on Human Brain and Memory\",\n",
    "        \"Red Blood Cells\": \"Article on Red Blood Cells and Their Functions\",\n",
    "        \"Voice Box\": \"Article on Human Voice Box Anatomy\",\n",
    "        \"Heart\": \"Article on Human Heart Structure and Circulation\",\n",
    "        \"Kidney\": \"Article on Kidney Function and Waste Filtration\",\n",
    "        \"Insulin Production\": \"Article on Insulin and Pancreatic Function\",\n",
    "        \"Blood Vessels\": \"Article on Human Blood Vessels and Circulatory System\",\n",
    "        \"Femur\": \"Article on Human Bone Structure and the Femur\"\n",
    "    }\n",
    "    \n",
    "    failed_questions = []\n",
    "    for idx, answer in enumerate(user_answers):\n",
    "        correct_answer = quiz_df.iloc[idx]['Correct_Answer']\n",
    "        if answer != correct_answer:\n",
    "            failed_topic = quiz_df.iloc[idx][f\"Option_{answer}\"]\n",
    "            failed_questions.append(failed_topic)\n",
    "    \n",
    "    recommendations = []\n",
    "    for topic in failed_questions:\n",
    "        if topic in articles:\n",
    "            recommendations.append(articles[topic])\n",
    "    \n",
    "    return recommendations\n",
    "\n",
    "# If user score is less than 6, recommend articles\n",
    "if score < 6:\n",
    "    print(\"\\nYour score is less than 6, here are some articles to help you:\")\n",
    "    recommendations = recommend_articles(user_answers)\n",
    "    for article in recommendations:\n",
    "        print(f\"- {article}\")\n",
    "else:\n",
    "    print(\"\\nCongratulations! You scored 6 or more. Keep up the good work!\")"
   ]
  },
  {
   "cell_type": "code",
   "execution_count": 9,
   "id": "c99e36f6-d829-479f-a4e1-86c8d7efdb5f",
   "metadata": {},
   "outputs": [
    {
     "name": "stdout",
     "output_type": "stream",
     "text": [
      "Question 1: What is the largest organ in the human body?\n",
      "A: Skin\n",
      "B: Liver\n",
      "C: Heart\n",
      "D: Brain\n"
     ]
    },
    {
     "name": "stdin",
     "output_type": "stream",
     "text": [
      "Your answer (A/B/C/D):  a\n"
     ]
    },
    {
     "name": "stdout",
     "output_type": "stream",
     "text": [
      "Correct!\n",
      "\n",
      "Question 2: How many bones are there in the adult human body?\n",
      "A: 206\n",
      "B: 208\n",
      "C: 210\n",
      "D: 212\n"
     ]
    },
    {
     "name": "stdin",
     "output_type": "stream",
     "text": [
      "Your answer (A/B/C/D):  c\n"
     ]
    },
    {
     "name": "stdout",
     "output_type": "stream",
     "text": [
      "Wrong! The correct answer is A: 206\n",
      "\n",
      "Question 3: Which organ is responsible for producing insulin?\n",
      "A: Pancreas\n",
      "B: Lungs\n",
      "C: Kidneys\n",
      "D: Stomach\n"
     ]
    },
    {
     "name": "stdin",
     "output_type": "stream",
     "text": [
      "Your answer (A/B/C/D):  c\n"
     ]
    },
    {
     "name": "stdout",
     "output_type": "stream",
     "text": [
      "Wrong! The correct answer is A: Pancreas\n",
      "\n",
      "Question 4: What is the main function of red blood cells?\n",
      "A: Carrying Oxygen\n",
      "B: Fighting Infections\n",
      "C: Storing Fat\n",
      "D: Producing Hormones\n"
     ]
    },
    {
     "name": "stdin",
     "output_type": "stream",
     "text": [
      "Your answer (A/B/C/D):  c\n"
     ]
    },
    {
     "name": "stdout",
     "output_type": "stream",
     "text": [
      "Wrong! The correct answer is A: Carrying Oxygen\n",
      "\n",
      "Question 5: Which part of the brain controls memory?\n",
      "A: Hippocampus\n",
      "B: Cerebellum\n",
      "C: Medulla\n",
      "D: Frontal Lobe\n"
     ]
    },
    {
     "name": "stdin",
     "output_type": "stream",
     "text": [
      "Your answer (A/B/C/D):  c\n"
     ]
    },
    {
     "name": "stdout",
     "output_type": "stream",
     "text": [
      "Wrong! The correct answer is A: Hippocampus\n",
      "\n",
      "Question 6: Which organ pumps blood throughout the body?\n",
      "A: Heart\n",
      "B: Liver\n",
      "C: Lungs\n",
      "D: Pancreas\n"
     ]
    },
    {
     "name": "stdin",
     "output_type": "stream",
     "text": [
      "Your answer (A/B/C/D):  c\n"
     ]
    },
    {
     "name": "stdout",
     "output_type": "stream",
     "text": [
      "Wrong! The correct answer is A: Heart\n",
      "\n",
      "Question 7: What part of the body is responsible for speech?\n",
      "A: Larynx\n",
      "B: Trachea\n",
      "C: Pharynx\n",
      "D: Lungs\n"
     ]
    },
    {
     "name": "stdin",
     "output_type": "stream",
     "text": [
      "Your answer (A/B/C/D):  c\n"
     ]
    },
    {
     "name": "stdout",
     "output_type": "stream",
     "text": [
      "Wrong! The correct answer is A: Larynx\n",
      "\n",
      "Question 8: What is the largest bone in the human body?\n",
      "A: Femur\n",
      "B: Pelvis\n",
      "C: Tibia\n",
      "D: Ribs\n"
     ]
    },
    {
     "name": "stdin",
     "output_type": "stream",
     "text": [
      "Your answer (A/B/C/D):  c\n"
     ]
    },
    {
     "name": "stdout",
     "output_type": "stream",
     "text": [
      "Wrong! The correct answer is A: Femur\n",
      "\n",
      "Question 9: Which organ is responsible for filtering waste in the body?\n",
      "A: Kidneys\n",
      "B: Liver\n",
      "C: Stomach\n",
      "D: Large Intestine\n"
     ]
    },
    {
     "name": "stdin",
     "output_type": "stream",
     "text": [
      "Your answer (A/B/C/D):  c\n"
     ]
    },
    {
     "name": "stdout",
     "output_type": "stream",
     "text": [
      "Wrong! The correct answer is A: Kidneys\n",
      "\n",
      "Question 10: What part of the body is responsible for digestion?\n",
      "A: Stomach\n",
      "B: Esophagus\n",
      "C: Small Intestine\n",
      "D: Large Intestine\n"
     ]
    },
    {
     "name": "stdin",
     "output_type": "stream",
     "text": [
      "Your answer (A/B/C/D):  c\n"
     ]
    },
    {
     "name": "stdout",
     "output_type": "stream",
     "text": [
      "Wrong! The correct answer is A: Stomach\n",
      "\n",
      "Your score is 1 out of 10.\n",
      "\n",
      "Your score is less than 6. Here are some articles to help you:\n",
      "- https://www.example.com/article-kidney-function\n",
      "- https://www.example.com/article-lung-anatomy\n",
      "- https://www.example.com/article-human-stomach\n"
     ]
    }
   ],
   "source": [
    "# Import necessary libraries\n",
    "import pandas as pd\n",
    "\n",
    "# Sample quiz data\n",
    "data = {\n",
    "    'Question': [\n",
    "        \"What is the largest organ in the human body?\",\n",
    "        \"How many bones are there in the adult human body?\",\n",
    "        \"Which organ is responsible for producing insulin?\",\n",
    "        \"What is the main function of red blood cells?\",\n",
    "        \"Which part of the brain controls memory?\",\n",
    "        \"Which organ pumps blood throughout the body?\",\n",
    "        \"What part of the body is responsible for speech?\",\n",
    "        \"What is the largest bone in the human body?\",\n",
    "        \"Which organ is responsible for filtering waste in the body?\",\n",
    "        \"What part of the body is responsible for digestion?\"\n",
    "    ],\n",
    "    'Option_A': [\"Skin\", \"206\", \"Pancreas\", \"Carrying Oxygen\", \"Hippocampus\", \"Heart\", \"Larynx\", \"Femur\", \"Kidneys\", \"Stomach\"],\n",
    "    'Option_B': [\"Liver\", \"208\", \"Lungs\", \"Fighting Infections\", \"Cerebellum\", \"Liver\", \"Trachea\", \"Pelvis\", \"Liver\", \"Esophagus\"],\n",
    "    'Option_C': [\"Heart\", \"210\", \"Kidneys\", \"Storing Fat\", \"Medulla\", \"Lungs\", \"Pharynx\", \"Tibia\", \"Stomach\", \"Small Intestine\"],\n",
    "    'Option_D': [\"Brain\", \"212\", \"Stomach\", \"Producing Hormones\", \"Frontal Lobe\", \"Pancreas\", \"Lungs\", \"Ribs\", \"Large Intestine\", \"Large Intestine\"],\n",
    "    'Correct_Answer': ['A', 'A', 'A', 'A', 'A', 'A', 'A', 'A', 'A', 'A']\n",
    "}\n",
    "\n",
    "# Convert to DataFrame\n",
    "quiz_df = pd.DataFrame(data)\n",
    "\n",
    "# Function to ask questions and check answers\n",
    "def take_quiz():\n",
    "    score = 0\n",
    "    user_answers = []\n",
    "    \n",
    "    for index, row in quiz_df.iterrows():\n",
    "        print(f\"Question {index + 1}: {row['Question']}\")\n",
    "        print(\"A:\", row['Option_A'])\n",
    "        print(\"B:\", row['Option_B'])\n",
    "        print(\"C:\", row['Option_C'])\n",
    "        print(\"D:\", row['Option_D'])\n",
    "        \n",
    "        # Take user input and validate it\n",
    "        while True:\n",
    "            answer = input(\"Your answer (A/B/C/D): \").strip().upper()\n",
    "            if answer in ['A', 'B', 'C', 'D']:\n",
    "                break\n",
    "            else:\n",
    "                print(\"Invalid input. Please enter A, B, C, or D.\")\n",
    "        \n",
    "        user_answers.append(answer)\n",
    "        \n",
    "        # Check if the answer is correct\n",
    "        if answer == row['Correct_Answer']:\n",
    "            score += 1\n",
    "            print(\"Correct!\\n\")\n",
    "        else:\n",
    "            correct_answer = row['Correct_Answer']\n",
    "            correct_answer_text = row[f\"Option_{correct_answer}\"]\n",
    "            print(f\"Wrong! The correct answer is {correct_answer}: {correct_answer_text}\\n\")\n",
    "\n",
    "    return score, user_answers\n",
    "\n",
    "# Recommendations for articles based on failed questions\n",
    "def recommend_articles(user_answers):\n",
    "    # Articles dictionary based on anatomy topics\n",
    "    articles = {\n",
    "        \"Skin\": \"https://www.example.com/article-skin-anatomy\",\n",
    "        \"Bones\": \"https://www.example.com/article-human-bone-structure\",\n",
    "        \"Pancreas\": \"https://www.example.com/article-pancreas-insulin\",\n",
    "        \"Liver\": \"https://www.example.com/article-liver-function\",\n",
    "        \"Heart\": \"https://www.example.com/article-heart-anatomy\",\n",
    "        \"Brain\": \"https://www.example.com/article-human-brain\",\n",
    "        \"Kidneys\": \"https://www.example.com/article-kidney-function\",\n",
    "        \"Lungs\": \"https://www.example.com/article-lung-anatomy\",\n",
    "        \"Stomach\": \"https://www.example.com/article-human-stomach\",\n",
    "        \"Femur\": \"https://www.example.com/article-femur-anatomy\",\n",
    "        \"Memory\": \"https://www.example.com/article-memory-function\"\n",
    "    }\n",
    "    \n",
    "    failed_questions = []\n",
    "    for idx, answer in enumerate(user_answers):\n",
    "        correct_answer = quiz_df.iloc[idx]['Correct_Answer']\n",
    "        if answer != correct_answer:\n",
    "            failed_topic = quiz_df.iloc[idx][f\"Option_{answer}\"]\n",
    "            failed_questions.append(failed_topic)\n",
    "    \n",
    "    recommendations = []\n",
    "    for topic in failed_questions:\n",
    "        if topic in articles:\n",
    "            recommendations.append(articles[topic])\n",
    "    \n",
    "    return recommendations\n",
    "\n",
    "# Start quiz\n",
    "score, user_answers = take_quiz()\n",
    "print(f\"Your score is {score} out of 10.\\n\")\n",
    "\n",
    "# If user score is less than 6, recommend articles\n",
    "if score < 6:\n",
    "    print(\"Your score is less than 6. Here are some articles to help you:\")\n",
    "    recommendations = recommend_articles(user_answers)\n",
    "    for article in recommendations:\n",
    "        print(f\"- {article}\")\n",
    "else:\n",
    "    print(\"Congratulations! You scored 6 or more. Keep up the good work!\")"
   ]
  },
  {
   "cell_type": "code",
   "execution_count": null,
   "id": "9e7d700f-b595-4580-bc4c-d387de4a1418",
   "metadata": {},
   "outputs": [],
   "source": []
  }
 ],
 "metadata": {
  "kernelspec": {
   "display_name": "Python 3 (ipykernel)",
   "language": "python",
   "name": "python3"
  },
  "language_info": {
   "codemirror_mode": {
    "name": "ipython",
    "version": 3
   },
   "file_extension": ".py",
   "mimetype": "text/x-python",
   "name": "python",
   "nbconvert_exporter": "python",
   "pygments_lexer": "ipython3",
   "version": "3.12.5"
  }
 },
 "nbformat": 4,
 "nbformat_minor": 5
}
